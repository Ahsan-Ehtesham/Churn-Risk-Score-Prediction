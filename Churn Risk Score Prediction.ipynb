{
 "cells": [
  {
   "cell_type": "markdown",
   "metadata": {},
   "source": [
    "## [Predict the churn risk rate](https://www.kaggle.com/parv619/hackerearth-how-not-to-lose-a-customer-in-10-days)\n",
    "Max. score: 100\n",
    "Churn rate is a marketing metric that describes the number of customers who leave a business over a specific time period. . Every user is assigned a prediction value that estimates their state of churn at any given time. This value is based on:\n",
    "\n",
    "User demographic information\n",
    "Browsing behavior\n",
    "Historical purchase data among other information\n",
    "It factors in our unique and proprietary predictions of how long a user will remain a customer. This score is updated every day for all users who have a minimum of one conversion. The values assigned are between 1 and 5.\n",
    "\n",
    "Task:\n",
    "Your task is to predict the churn score for a website based on the features provided in the dataset."
   ]
  },
  {
   "cell_type": "code",
   "execution_count": 1,
   "metadata": {},
   "outputs": [],
   "source": [
    "import pandas as pd\n",
    "import numpy as np\n",
    "import copy\n",
    "import timeit\n",
    "from sklearn.preprocessing import LabelEncoder\n",
    "from sklearn.model_selection import train_test_split\n",
    "from sklearn.tree import DecisionTreeClassifier\n",
    "from sklearn.ensemble import RandomForestClassifier\n",
    "from sklearn.neighbors import KNeighborsClassifier\n",
    "from sklearn.model_selection import cross_val_score\n",
    "from sklearn.model_selection import GridSearchCV\n",
    "from sklearn import metrics #Import scikit-learn metrics module for accuracy calculation\n",
    "from sklearn.metrics import classification_report\n",
    "from sklearn.metrics import confusion_matrix\n",
    "from sklearn.metrics import accuracy_score"
   ]
  },
  {
   "cell_type": "markdown",
   "metadata": {},
   "source": [
    "# Import Dataset"
   ]
  },
  {
   "cell_type": "code",
   "execution_count": 2,
   "metadata": {},
   "outputs": [],
   "source": [
    "dataset_train=pd.read_csv('./train.csv')\n",
    "dataset_train_copy=dataset_train.copy()\n",
    "# dataset_test=pd.read_csv('./test.csv')"
   ]
  },
  {
   "cell_type": "code",
   "execution_count": 3,
   "metadata": {},
   "outputs": [
    {
     "output_type": "execute_result",
     "data": {
      "text/plain": [
       "                            customer_id              Name  age gender  \\\n",
       "0      fffe4300490044003600300030003800   Pattie Morrisey   18      F   \n",
       "1  fffe43004900440032003100300035003700       Traci Peery   32      F   \n",
       "2      fffe4300490044003100390032003600   Merideth Mcmeen   44      F   \n",
       "3  fffe43004900440036003000330031003600  Eufemia Cardwell   37      M   \n",
       "4  fffe43004900440031003900350030003600      Meghan Kosak   31      F   \n",
       "\n",
       "  security_no region_category  membership_category joining_date  \\\n",
       "0     XW0DQ7H         Village  Platinum Membership   2017-08-17   \n",
       "1     5K0N3X1            City   Premium Membership   2017-08-28   \n",
       "2     1F2TCL3            Town        No Membership   2016-11-11   \n",
       "3     VJGJ33N            City        No Membership   2016-10-29   \n",
       "4     SVZXCWB            City        No Membership   2017-09-12   \n",
       "\n",
       "  joined_through_referral referral_id  ... avg_time_spent  \\\n",
       "0                      No    xxxxxxxx  ...         300.63   \n",
       "1                       ?    CID21329  ...         306.34   \n",
       "2                     Yes    CID12313  ...         516.16   \n",
       "3                     Yes     CID3793  ...          53.27   \n",
       "4                      No    xxxxxxxx  ...         113.13   \n",
       "\n",
       "  avg_transaction_value avg_frequency_login_days points_in_wallet  \\\n",
       "0              53005.25                     17.0           781.75   \n",
       "1              12838.38                     10.0              NaN   \n",
       "2              21027.00                     22.0           500.69   \n",
       "3              25239.56                      6.0           567.66   \n",
       "4              24483.66                     16.0           663.06   \n",
       "\n",
       "   used_special_discount  offer_application_preference  past_complaint  \\\n",
       "0                    Yes                           Yes              No   \n",
       "1                    Yes                            No             Yes   \n",
       "2                     No                           Yes             Yes   \n",
       "3                     No                           Yes             Yes   \n",
       "4                     No                           Yes             Yes   \n",
       "\n",
       "      complaint_status                  feedback churn_risk_score  \n",
       "0       Not Applicable  Products always in Stock                2  \n",
       "1               Solved     Quality Customer Care                1  \n",
       "2  Solved in Follow-up              Poor Website                5  \n",
       "3             Unsolved              Poor Website                5  \n",
       "4               Solved              Poor Website                5  \n",
       "\n",
       "[5 rows x 25 columns]"
      ],
      "text/html": "<div>\n<style scoped>\n    .dataframe tbody tr th:only-of-type {\n        vertical-align: middle;\n    }\n\n    .dataframe tbody tr th {\n        vertical-align: top;\n    }\n\n    .dataframe thead th {\n        text-align: right;\n    }\n</style>\n<table border=\"1\" class=\"dataframe\">\n  <thead>\n    <tr style=\"text-align: right;\">\n      <th></th>\n      <th>customer_id</th>\n      <th>Name</th>\n      <th>age</th>\n      <th>gender</th>\n      <th>security_no</th>\n      <th>region_category</th>\n      <th>membership_category</th>\n      <th>joining_date</th>\n      <th>joined_through_referral</th>\n      <th>referral_id</th>\n      <th>...</th>\n      <th>avg_time_spent</th>\n      <th>avg_transaction_value</th>\n      <th>avg_frequency_login_days</th>\n      <th>points_in_wallet</th>\n      <th>used_special_discount</th>\n      <th>offer_application_preference</th>\n      <th>past_complaint</th>\n      <th>complaint_status</th>\n      <th>feedback</th>\n      <th>churn_risk_score</th>\n    </tr>\n  </thead>\n  <tbody>\n    <tr>\n      <th>0</th>\n      <td>fffe4300490044003600300030003800</td>\n      <td>Pattie Morrisey</td>\n      <td>18</td>\n      <td>F</td>\n      <td>XW0DQ7H</td>\n      <td>Village</td>\n      <td>Platinum Membership</td>\n      <td>2017-08-17</td>\n      <td>No</td>\n      <td>xxxxxxxx</td>\n      <td>...</td>\n      <td>300.63</td>\n      <td>53005.25</td>\n      <td>17.0</td>\n      <td>781.75</td>\n      <td>Yes</td>\n      <td>Yes</td>\n      <td>No</td>\n      <td>Not Applicable</td>\n      <td>Products always in Stock</td>\n      <td>2</td>\n    </tr>\n    <tr>\n      <th>1</th>\n      <td>fffe43004900440032003100300035003700</td>\n      <td>Traci Peery</td>\n      <td>32</td>\n      <td>F</td>\n      <td>5K0N3X1</td>\n      <td>City</td>\n      <td>Premium Membership</td>\n      <td>2017-08-28</td>\n      <td>?</td>\n      <td>CID21329</td>\n      <td>...</td>\n      <td>306.34</td>\n      <td>12838.38</td>\n      <td>10.0</td>\n      <td>NaN</td>\n      <td>Yes</td>\n      <td>No</td>\n      <td>Yes</td>\n      <td>Solved</td>\n      <td>Quality Customer Care</td>\n      <td>1</td>\n    </tr>\n    <tr>\n      <th>2</th>\n      <td>fffe4300490044003100390032003600</td>\n      <td>Merideth Mcmeen</td>\n      <td>44</td>\n      <td>F</td>\n      <td>1F2TCL3</td>\n      <td>Town</td>\n      <td>No Membership</td>\n      <td>2016-11-11</td>\n      <td>Yes</td>\n      <td>CID12313</td>\n      <td>...</td>\n      <td>516.16</td>\n      <td>21027.00</td>\n      <td>22.0</td>\n      <td>500.69</td>\n      <td>No</td>\n      <td>Yes</td>\n      <td>Yes</td>\n      <td>Solved in Follow-up</td>\n      <td>Poor Website</td>\n      <td>5</td>\n    </tr>\n    <tr>\n      <th>3</th>\n      <td>fffe43004900440036003000330031003600</td>\n      <td>Eufemia Cardwell</td>\n      <td>37</td>\n      <td>M</td>\n      <td>VJGJ33N</td>\n      <td>City</td>\n      <td>No Membership</td>\n      <td>2016-10-29</td>\n      <td>Yes</td>\n      <td>CID3793</td>\n      <td>...</td>\n      <td>53.27</td>\n      <td>25239.56</td>\n      <td>6.0</td>\n      <td>567.66</td>\n      <td>No</td>\n      <td>Yes</td>\n      <td>Yes</td>\n      <td>Unsolved</td>\n      <td>Poor Website</td>\n      <td>5</td>\n    </tr>\n    <tr>\n      <th>4</th>\n      <td>fffe43004900440031003900350030003600</td>\n      <td>Meghan Kosak</td>\n      <td>31</td>\n      <td>F</td>\n      <td>SVZXCWB</td>\n      <td>City</td>\n      <td>No Membership</td>\n      <td>2017-09-12</td>\n      <td>No</td>\n      <td>xxxxxxxx</td>\n      <td>...</td>\n      <td>113.13</td>\n      <td>24483.66</td>\n      <td>16.0</td>\n      <td>663.06</td>\n      <td>No</td>\n      <td>Yes</td>\n      <td>Yes</td>\n      <td>Solved</td>\n      <td>Poor Website</td>\n      <td>5</td>\n    </tr>\n  </tbody>\n</table>\n<p>5 rows × 25 columns</p>\n</div>"
     },
     "metadata": {},
     "execution_count": 3
    }
   ],
   "source": [
    "dataset_train_copy.head()"
   ]
  },
  {
   "cell_type": "code",
   "execution_count": 4,
   "metadata": {},
   "outputs": [
    {
     "output_type": "execute_result",
     "data": {
      "text/plain": [
       "                age  days_since_last_login  avg_time_spent  \\\n",
       "count  36992.000000           36992.000000    36992.000000   \n",
       "mean      37.118161             -41.915576      243.472334   \n",
       "std       15.867412             228.819900      398.289149   \n",
       "min       10.000000            -999.000000    -2814.109110   \n",
       "25%       23.000000               8.000000       60.102500   \n",
       "50%       37.000000              12.000000      161.765000   \n",
       "75%       51.000000              16.000000      356.515000   \n",
       "max       64.000000              26.000000     3235.578521   \n",
       "\n",
       "       avg_transaction_value  points_in_wallet  churn_risk_score  \n",
       "count           36992.000000      33549.000000      36992.000000  \n",
       "mean            29271.194003        686.882199          3.463397  \n",
       "std             19444.806226        194.063624          1.409661  \n",
       "min               800.460000       -760.661236         -1.000000  \n",
       "25%             14177.540000        616.150000          3.000000  \n",
       "50%             27554.485000        697.620000          4.000000  \n",
       "75%             40855.110000        763.950000          5.000000  \n",
       "max             99914.050000       2069.069761          5.000000  "
      ],
      "text/html": "<div>\n<style scoped>\n    .dataframe tbody tr th:only-of-type {\n        vertical-align: middle;\n    }\n\n    .dataframe tbody tr th {\n        vertical-align: top;\n    }\n\n    .dataframe thead th {\n        text-align: right;\n    }\n</style>\n<table border=\"1\" class=\"dataframe\">\n  <thead>\n    <tr style=\"text-align: right;\">\n      <th></th>\n      <th>age</th>\n      <th>days_since_last_login</th>\n      <th>avg_time_spent</th>\n      <th>avg_transaction_value</th>\n      <th>points_in_wallet</th>\n      <th>churn_risk_score</th>\n    </tr>\n  </thead>\n  <tbody>\n    <tr>\n      <th>count</th>\n      <td>36992.000000</td>\n      <td>36992.000000</td>\n      <td>36992.000000</td>\n      <td>36992.000000</td>\n      <td>33549.000000</td>\n      <td>36992.000000</td>\n    </tr>\n    <tr>\n      <th>mean</th>\n      <td>37.118161</td>\n      <td>-41.915576</td>\n      <td>243.472334</td>\n      <td>29271.194003</td>\n      <td>686.882199</td>\n      <td>3.463397</td>\n    </tr>\n    <tr>\n      <th>std</th>\n      <td>15.867412</td>\n      <td>228.819900</td>\n      <td>398.289149</td>\n      <td>19444.806226</td>\n      <td>194.063624</td>\n      <td>1.409661</td>\n    </tr>\n    <tr>\n      <th>min</th>\n      <td>10.000000</td>\n      <td>-999.000000</td>\n      <td>-2814.109110</td>\n      <td>800.460000</td>\n      <td>-760.661236</td>\n      <td>-1.000000</td>\n    </tr>\n    <tr>\n      <th>25%</th>\n      <td>23.000000</td>\n      <td>8.000000</td>\n      <td>60.102500</td>\n      <td>14177.540000</td>\n      <td>616.150000</td>\n      <td>3.000000</td>\n    </tr>\n    <tr>\n      <th>50%</th>\n      <td>37.000000</td>\n      <td>12.000000</td>\n      <td>161.765000</td>\n      <td>27554.485000</td>\n      <td>697.620000</td>\n      <td>4.000000</td>\n    </tr>\n    <tr>\n      <th>75%</th>\n      <td>51.000000</td>\n      <td>16.000000</td>\n      <td>356.515000</td>\n      <td>40855.110000</td>\n      <td>763.950000</td>\n      <td>5.000000</td>\n    </tr>\n    <tr>\n      <th>max</th>\n      <td>64.000000</td>\n      <td>26.000000</td>\n      <td>3235.578521</td>\n      <td>99914.050000</td>\n      <td>2069.069761</td>\n      <td>5.000000</td>\n    </tr>\n  </tbody>\n</table>\n</div>"
     },
     "metadata": {},
     "execution_count": 4
    }
   ],
   "source": [
    "dataset_train_copy.describe()"
   ]
  },
  {
   "cell_type": "code",
   "execution_count": 5,
   "metadata": {},
   "outputs": [
    {
     "output_type": "stream",
     "name": "stdout",
     "text": [
      "<class 'pandas.core.frame.DataFrame'>\nRangeIndex: 36992 entries, 0 to 36991\nData columns (total 25 columns):\n #   Column                        Non-Null Count  Dtype  \n---  ------                        --------------  -----  \n 0   customer_id                   36992 non-null  object \n 1   Name                          36992 non-null  object \n 2   age                           36992 non-null  int64  \n 3   gender                        36992 non-null  object \n 4   security_no                   36992 non-null  object \n 5   region_category               31564 non-null  object \n 6   membership_category           36992 non-null  object \n 7   joining_date                  36992 non-null  object \n 8   joined_through_referral       36992 non-null  object \n 9   referral_id                   36992 non-null  object \n 10  preferred_offer_types         36704 non-null  object \n 11  medium_of_operation           36992 non-null  object \n 12  internet_option               36992 non-null  object \n 13  last_visit_time               36992 non-null  object \n 14  days_since_last_login         36992 non-null  int64  \n 15  avg_time_spent                36992 non-null  float64\n 16  avg_transaction_value         36992 non-null  float64\n 17  avg_frequency_login_days      36992 non-null  object \n 18  points_in_wallet              33549 non-null  float64\n 19  used_special_discount         36992 non-null  object \n 20  offer_application_preference  36992 non-null  object \n 21  past_complaint                36992 non-null  object \n 22  complaint_status              36992 non-null  object \n 23  feedback                      36992 non-null  object \n 24  churn_risk_score              36992 non-null  int64  \ndtypes: float64(3), int64(3), object(19)\nmemory usage: 7.1+ MB\n"
     ]
    }
   ],
   "source": [
    "dataset_train_copy.info()"
   ]
  },
  {
   "cell_type": "code",
   "execution_count": 6,
   "metadata": {},
   "outputs": [
    {
     "output_type": "display_data",
     "data": {
      "text/plain": "customer_id                        0\nName                               0\nage                                0\ngender                             0\nsecurity_no                        0\nregion_category                 5428\nmembership_category                0\njoining_date                       0\njoined_through_referral            0\nreferral_id                        0\npreferred_offer_types            288\nmedium_of_operation                0\ninternet_option                    0\nlast_visit_time                    0\ndays_since_last_login              0\navg_time_spent                     0\navg_transaction_value              0\navg_frequency_login_days           0\npoints_in_wallet                3443\nused_special_discount              0\noffer_application_preference       0\npast_complaint                     0\ncomplaint_status                   0\nfeedback                           0\nchurn_risk_score                   0\ndtype: int64"
     },
     "metadata": {}
    }
   ],
   "source": [
    "# Check for NaN data\n",
    "display(dataset_train_copy.isnull().sum())"
   ]
  },
  {
   "source": [
    "# Dropping all rows whose 'avg_time_spent' is negative\n",
    "low = np.where(dataset_train_copy['avg_time_spent'] < 0)\n",
    "dataset_train_copy.drop(low[0],inplace=True)\n",
    "# Reseting the default index\n",
    "dataset_train_copy.index = range(0,dataset_train_copy.shape[0])"
   ],
   "cell_type": "code",
   "metadata": {},
   "execution_count": 7,
   "outputs": []
  },
  {
   "cell_type": "code",
   "execution_count": 8,
   "metadata": {},
   "outputs": [],
   "source": [
    "# dataset_train_copy.groupby('avg_frequency_login_days').size()"
   ]
  },
  {
   "cell_type": "code",
   "execution_count": 9,
   "metadata": {},
   "outputs": [],
   "source": [
    "# Dropping all rows whose 'points_in_wallet' is negative \n",
    "l1 = np.where(dataset_train_copy['points_in_wallet'] < 0)\n",
    "dataset_train_copy.drop(l1[0],inplace=True)\n",
    "dataset_train_copy.index = range(0,dataset_train_copy.shape[0])\n",
    "# # # Dropping all rows whose 'avg_frequency_login_days' is negative \n",
    "# l2 = np.where(dataset_train_copy['avg_frequency_login_days'] < 0)\n",
    "# dataset_train_copy.drop(l2[0],inplace=True)\n",
    "# dataset_train_copy.index = range(0,dataset_train_copy.shape[0])\n",
    "# Dropping all rows whose 'avg_transaction_value' is negative \n",
    "l3 = np.where(dataset_train_copy['avg_transaction_value'] < 0)\n",
    "dataset_train_copy.drop(l3[0],inplace=True)\n",
    "dataset_train_copy.index = range(0,dataset_train_copy.shape[0])\n",
    "# Dropping all rows whose 'days_since_last_login' is negative \n",
    "l4 = np.where(dataset_train_copy['days_since_last_login'] < 0)\n",
    "dataset_train_copy.drop(l4[0],inplace=True)\n",
    "dataset_train_copy.index = range(0,dataset_train_copy.shape[0])"
   ]
  },
  {
   "source": [
    "# Removing all the rows having 'churn_risk_score' == -1 \n",
    "l5 = np.where(dataset_train_copy['churn_risk_score'] == -1)\n",
    "dataset_train_copy.drop(l5[0],inplace=True)\n",
    "dataset_train_copy.index = range(0,dataset_train_copy.shape[0])"
   ],
   "cell_type": "code",
   "metadata": {},
   "execution_count": 10,
   "outputs": []
  },
  {
   "cell_type": "code",
   "execution_count": 11,
   "metadata": {},
   "outputs": [
    {
     "output_type": "stream",
     "name": "stdout",
     "text": [
      "churn_risk_score\n1    2413\n2    2471\n3    9395\n4    9113\n5    8802\ndtype: int64\n"
     ]
    }
   ],
   "source": [
    "# class distribution\n",
    "print(dataset_train_copy.groupby('churn_risk_score').size())"
   ]
  },
  {
   "cell_type": "code",
   "execution_count": 12,
   "metadata": {},
   "outputs": [],
   "source": [
    "dataset_train_copy=dataset_train_copy.fillna(method='ffill')"
   ]
  },
  {
   "cell_type": "code",
   "execution_count": 13,
   "metadata": {},
   "outputs": [
    {
     "output_type": "display_data",
     "data": {
      "text/plain": "customer_id                     0\nName                            0\nage                             0\ngender                          0\nsecurity_no                     0\nregion_category                 0\nmembership_category             0\njoining_date                    0\njoined_through_referral         0\nreferral_id                     0\npreferred_offer_types           0\nmedium_of_operation             0\ninternet_option                 0\nlast_visit_time                 0\ndays_since_last_login           0\navg_time_spent                  0\navg_transaction_value           0\navg_frequency_login_days        0\npoints_in_wallet                0\nused_special_discount           0\noffer_application_preference    0\npast_complaint                  0\ncomplaint_status                0\nfeedback                        0\nchurn_risk_score                0\ndtype: int64"
     },
     "metadata": {}
    }
   ],
   "source": [
    "display(dataset_train_copy.isnull().sum())"
   ]
  },
  {
   "cell_type": "code",
   "execution_count": 14,
   "metadata": {},
   "outputs": [
    {
     "output_type": "stream",
     "name": "stdout",
     "text": [
      "Basic Membership       6701\nNo Membership          6663\nGold Membership        5937\nSilver Membership      5229\nPremium Membership     3877\nPlatinum Membership    3787\nName: membership_category, dtype: int64\n"
     ]
    }
   ],
   "source": [
    "print(dataset_train_copy['membership_category'].value_counts())"
   ]
  },
  {
   "cell_type": "code",
   "execution_count": 15,
   "metadata": {},
   "outputs": [
    {
     "output_type": "execute_result",
     "data": {
      "text/plain": [
       "                            customer_id              Name  age  gender  \\\n",
       "0      fffe4300490044003600300030003800   Pattie Morrisey   18       0   \n",
       "1  fffe43004900440032003100300035003700       Traci Peery   32       0   \n",
       "2      fffe4300490044003100390032003600   Merideth Mcmeen   44       0   \n",
       "3  fffe43004900440036003000330031003600  Eufemia Cardwell   37       1   \n",
       "4  fffe43004900440031003900350030003600      Meghan Kosak   31       0   \n",
       "\n",
       "  security_no  region_category  membership_category joining_date  \\\n",
       "0     XW0DQ7H                2                    3   2017-08-17   \n",
       "1     5K0N3X1                0                    4   2017-08-28   \n",
       "2     1F2TCL3                1                    2   2016-11-11   \n",
       "3     VJGJ33N                0                    2   2016-10-29   \n",
       "4     SVZXCWB                0                    2   2017-09-12   \n",
       "\n",
       "   joined_through_referral referral_id  ...  avg_time_spent  \\\n",
       "0                        1    xxxxxxxx  ...          300.63   \n",
       "1                        0    CID21329  ...          306.34   \n",
       "2                        2    CID12313  ...          516.16   \n",
       "3                        2     CID3793  ...           53.27   \n",
       "4                        1    xxxxxxxx  ...          113.13   \n",
       "\n",
       "   avg_transaction_value  avg_frequency_login_days points_in_wallet  \\\n",
       "0               53005.25                       628           781.75   \n",
       "1               12838.38                       617           781.75   \n",
       "2               21027.00                       658           500.69   \n",
       "3               25239.56                      1400           567.66   \n",
       "4               24483.66                       627           663.06   \n",
       "\n",
       "   used_special_discount  offer_application_preference  past_complaint  \\\n",
       "0                      1                             1               0   \n",
       "1                      1                             0               1   \n",
       "2                      0                             1               1   \n",
       "3                      0                             1               1   \n",
       "4                      0                             1               1   \n",
       "\n",
       "   complaint_status  feedback  churn_risk_score  \n",
       "0                 1         4                 2  \n",
       "1                 2         5                 1  \n",
       "2                 3         3                 5  \n",
       "3                 4         3                 5  \n",
       "4                 2         3                 5  \n",
       "\n",
       "[5 rows x 25 columns]"
      ],
      "text/html": "<div>\n<style scoped>\n    .dataframe tbody tr th:only-of-type {\n        vertical-align: middle;\n    }\n\n    .dataframe tbody tr th {\n        vertical-align: top;\n    }\n\n    .dataframe thead th {\n        text-align: right;\n    }\n</style>\n<table border=\"1\" class=\"dataframe\">\n  <thead>\n    <tr style=\"text-align: right;\">\n      <th></th>\n      <th>customer_id</th>\n      <th>Name</th>\n      <th>age</th>\n      <th>gender</th>\n      <th>security_no</th>\n      <th>region_category</th>\n      <th>membership_category</th>\n      <th>joining_date</th>\n      <th>joined_through_referral</th>\n      <th>referral_id</th>\n      <th>...</th>\n      <th>avg_time_spent</th>\n      <th>avg_transaction_value</th>\n      <th>avg_frequency_login_days</th>\n      <th>points_in_wallet</th>\n      <th>used_special_discount</th>\n      <th>offer_application_preference</th>\n      <th>past_complaint</th>\n      <th>complaint_status</th>\n      <th>feedback</th>\n      <th>churn_risk_score</th>\n    </tr>\n  </thead>\n  <tbody>\n    <tr>\n      <th>0</th>\n      <td>fffe4300490044003600300030003800</td>\n      <td>Pattie Morrisey</td>\n      <td>18</td>\n      <td>0</td>\n      <td>XW0DQ7H</td>\n      <td>2</td>\n      <td>3</td>\n      <td>2017-08-17</td>\n      <td>1</td>\n      <td>xxxxxxxx</td>\n      <td>...</td>\n      <td>300.63</td>\n      <td>53005.25</td>\n      <td>628</td>\n      <td>781.75</td>\n      <td>1</td>\n      <td>1</td>\n      <td>0</td>\n      <td>1</td>\n      <td>4</td>\n      <td>2</td>\n    </tr>\n    <tr>\n      <th>1</th>\n      <td>fffe43004900440032003100300035003700</td>\n      <td>Traci Peery</td>\n      <td>32</td>\n      <td>0</td>\n      <td>5K0N3X1</td>\n      <td>0</td>\n      <td>4</td>\n      <td>2017-08-28</td>\n      <td>0</td>\n      <td>CID21329</td>\n      <td>...</td>\n      <td>306.34</td>\n      <td>12838.38</td>\n      <td>617</td>\n      <td>781.75</td>\n      <td>1</td>\n      <td>0</td>\n      <td>1</td>\n      <td>2</td>\n      <td>5</td>\n      <td>1</td>\n    </tr>\n    <tr>\n      <th>2</th>\n      <td>fffe4300490044003100390032003600</td>\n      <td>Merideth Mcmeen</td>\n      <td>44</td>\n      <td>0</td>\n      <td>1F2TCL3</td>\n      <td>1</td>\n      <td>2</td>\n      <td>2016-11-11</td>\n      <td>2</td>\n      <td>CID12313</td>\n      <td>...</td>\n      <td>516.16</td>\n      <td>21027.00</td>\n      <td>658</td>\n      <td>500.69</td>\n      <td>0</td>\n      <td>1</td>\n      <td>1</td>\n      <td>3</td>\n      <td>3</td>\n      <td>5</td>\n    </tr>\n    <tr>\n      <th>3</th>\n      <td>fffe43004900440036003000330031003600</td>\n      <td>Eufemia Cardwell</td>\n      <td>37</td>\n      <td>1</td>\n      <td>VJGJ33N</td>\n      <td>0</td>\n      <td>2</td>\n      <td>2016-10-29</td>\n      <td>2</td>\n      <td>CID3793</td>\n      <td>...</td>\n      <td>53.27</td>\n      <td>25239.56</td>\n      <td>1400</td>\n      <td>567.66</td>\n      <td>0</td>\n      <td>1</td>\n      <td>1</td>\n      <td>4</td>\n      <td>3</td>\n      <td>5</td>\n    </tr>\n    <tr>\n      <th>4</th>\n      <td>fffe43004900440031003900350030003600</td>\n      <td>Meghan Kosak</td>\n      <td>31</td>\n      <td>0</td>\n      <td>SVZXCWB</td>\n      <td>0</td>\n      <td>2</td>\n      <td>2017-09-12</td>\n      <td>1</td>\n      <td>xxxxxxxx</td>\n      <td>...</td>\n      <td>113.13</td>\n      <td>24483.66</td>\n      <td>627</td>\n      <td>663.06</td>\n      <td>0</td>\n      <td>1</td>\n      <td>1</td>\n      <td>2</td>\n      <td>3</td>\n      <td>5</td>\n    </tr>\n  </tbody>\n</table>\n<p>5 rows × 25 columns</p>\n</div>"
     },
     "metadata": {},
     "execution_count": 15
    }
   ],
   "source": [
    "dataset_train_encoded = dataset_train_copy.copy()\n",
    "categ = ['gender','joined_through_referral','preferred_offer_types','medium_of_operation','internet_option','region_category','membership_category','avg_frequency_login_days','used_special_discount','offer_application_preference','past_complaint','complaint_status','feedback']\n",
    "encoder = LabelEncoder()\n",
    "# dataset_train_encoded = encoder.fit_transform(dataset_train_copy)\n",
    "dataset_train_encoded[categ] = dataset_train_encoded[categ].apply(encoder.fit_transform)\n",
    "# dataset_train_encoded = dataset_train_encoded.apply(encoder.fit_transform)\n",
    "# dataset_train_encoded['membership_category'] = encoder.fit_transform(dataset_train_copy['membership_category'])\n",
    "dataset_train_encoded.head()"
   ]
  },
  {
   "cell_type": "code",
   "execution_count": 16,
   "metadata": {},
   "outputs": [
    {
     "output_type": "stream",
     "name": "stdout",
     "text": [
      "['No reason specified' 'Poor Customer Service' 'Poor Product Quality'\n 'Poor Website' 'Products always in Stock' 'Quality Customer Care'\n 'Reasonable Price' 'Too many ads' 'User Friendly Website']\n"
     ]
    }
   ],
   "source": [
    "print(encoder.classes_)"
   ]
  },
  {
   "cell_type": "code",
   "execution_count": 17,
   "metadata": {},
   "outputs": [
    {
     "output_type": "stream",
     "name": "stdout",
     "text": [
      "churn_risk_score                1.000000\nmembership_category             0.440104\navg_transaction_value           0.363690\nfeedback                        0.337454\npoints_in_wallet                0.302852\noffer_application_preference    0.038766\npreferred_offer_types           0.037590\navg_frequency_login_days        0.035780\ndays_since_last_login           0.033287\njoined_through_referral         0.030665\nregion_category                 0.027722\navg_time_spent                  0.027328\nmedium_of_operation             0.019976\npast_complaint                  0.012077\nused_special_discount           0.008255\ngender                          0.005359\ninternet_option                 0.004766\ncomplaint_status                0.004404\nage                             0.000609\nName: churn_risk_score, dtype: float64\n"
     ]
    }
   ],
   "source": [
    "print(dataset_train_encoded.corr()[\"churn_risk_score\"].abs().sort_values(ascending=False))"
   ]
  },
  {
   "cell_type": "code",
   "execution_count": 18,
   "metadata": {},
   "outputs": [],
   "source": [
    "#split dataset in features and target variable\n",
    "feature_cols = ['region_category','membership_category',\n",
    "'avg_time_spent',\n",
    "'avg_transaction_value',\n",
    "'points_in_wallet','complaint_status',\n",
    "'feedback'\n",
    "]\n",
    "X = dataset_train_encoded[feature_cols] # Features\n",
    "y = dataset_train_encoded.churn_risk_score # Target variable"
   ]
  },
  {
   "cell_type": "code",
   "execution_count": 19,
   "metadata": {},
   "outputs": [
    {
     "output_type": "stream",
     "name": "stdout",
     "text": [
      "The dataset before oversampling:  (32194, 7) (32194,)\nThe dataset after oversampling:  (46975, 7) (46975,)\n"
     ]
    }
   ],
   "source": [
    "# Applying SMOTE Over Sampling Strategy\n",
    "from imblearn.over_sampling import SMOTEN\n",
    "oversampler = SMOTEN()\n",
    "X_ov,y_ov = oversampler.fit_resample(X,y)\n",
    "print('The dataset before oversampling: ',X.shape,y.shape)\n",
    "print('The dataset after oversampling: ',X_ov.shape,y_ov.shape)"
   ]
  },
  {
   "cell_type": "code",
   "execution_count": 20,
   "metadata": {},
   "outputs": [
    {
     "output_type": "stream",
     "name": "stdout",
     "text": [
      "2413 9395\n2471 9395\n9395 9395\n9113 9395\n8802 9395\n"
     ]
    }
   ],
   "source": [
    "# Now we are having equally balanced target labels\n",
    "print(sum(y == 1),sum(y_ov == 1))\n",
    "print(sum(y == 2),sum(y_ov == 2))\n",
    "print(sum(y == 3),sum(y_ov == 3))\n",
    "print(sum(y == 4),sum(y_ov == 4))\n",
    "print(sum(y == 5),sum(y_ov == 5))"
   ]
  },
  {
   "cell_type": "code",
   "execution_count": 21,
   "metadata": {},
   "outputs": [],
   "source": [
    "from sklearn.preprocessing import RobustScaler\n",
    "scaler = RobustScaler()\n",
    "X_ov = scaler.fit_transform(X_ov)\n",
    "# X_test = df_test_new.values\n",
    "# X_test = scaler.transform(X_test)"
   ]
  },
  {
   "cell_type": "code",
   "execution_count": 22,
   "metadata": {},
   "outputs": [],
   "source": [
    "# Split dataset into training set and test set\n",
    "X_train, X_test, y_train, y_test = train_test_split(X_ov,y_ov, test_size=0.2, random_state=42) # 80% training and 20% test"
   ]
  },
  {
   "cell_type": "code",
   "execution_count": 23,
   "metadata": {},
   "outputs": [
    {
     "output_type": "stream",
     "name": "stdout",
     "text": [
      "Wall time: 0 ns\n"
     ]
    }
   ],
   "source": [
    "# Create Random Forest classifer object\n",
    "%time\n",
    "param_grid = [\n",
    "    # try 12 (3×4) combinations of hyperparameters\n",
    "    {'n_estimators': [3, 100, 500,1000], 'max_depth': [20, 22, 24, 25]}\n",
    "  ]\n",
    "# clf = KNeighborsClassifier(n_neighbors=37, n_jobs=-1)\n",
    "# clf=RandomForestClassifier(n_estimators = 500,random_state = 1)\n",
    "# clf=RandomForestClassifier(n_estimators=1000,max_depth=25)\n",
    "clf=RandomForestClassifier()\n",
    "# train across 5 folds, that's a total of (12+6)*5=90 rounds of training \n",
    "grid_search = GridSearchCV(clf, param_grid, cv=5,\n",
    "                           scoring='neg_mean_squared_error', return_train_score=True)\n",
    "# clf=DecisionTreeClassifier(min_samples_split=100,random_state = 1)\n",
    "\n",
    "# Train Random Forest Classifer\n",
    "grid_search = grid_search.fit(X_train,y_train)\n",
    "\n",
    "#Predict the response for test dataset\n",
    "y_pred = grid_search.predict(X_test)\n",
    "\n",
    "\n",
    "\n",
    "# def display_scores(scores):\n",
    "#     print(\"Scores:\", scores)\n",
    "#     print(\"Mean:\", scores.mean())\n",
    "#     print(\"Standard deviation:\", scores.std())\n",
    "# #Apply Cross Validation\n",
    "# scores = cross_val_score(clf, X_ov, y_ov,scoring=\"neg_mean_squared_error\", cv=10)\n",
    "# clf_scores = np.sqrt(-scores)\n",
    "# display_scores(clf_scores)"
   ]
  },
  {
   "cell_type": "code",
   "execution_count": 24,
   "metadata": {},
   "outputs": [
    {
     "output_type": "execute_result",
     "data": {
      "text/plain": [
       "{'max_depth': 25, 'n_estimators': 1000}"
      ]
     },
     "metadata": {},
     "execution_count": 24
    }
   ],
   "source": [
    "grid_search.best_params_"
   ]
  },
  {
   "cell_type": "code",
   "execution_count": 25,
   "metadata": {},
   "outputs": [
    {
     "output_type": "execute_result",
     "data": {
      "text/plain": [
       "RandomForestClassifier(max_depth=25, n_estimators=1000)"
      ]
     },
     "metadata": {},
     "execution_count": 25
    }
   ],
   "source": [
    "grid_search.best_estimator_"
   ]
  },
  {
   "cell_type": "code",
   "execution_count": 26,
   "metadata": {},
   "outputs": [
    {
     "output_type": "stream",
     "name": "stdout",
     "text": [
      "0.4535355756286713 {'max_depth': 20, 'n_estimators': 3}\n0.3997737518742317 {'max_depth': 20, 'n_estimators': 100}\n0.3984402800073111 {'max_depth': 20, 'n_estimators': 500}\n0.3999733892159504 {'max_depth': 20, 'n_estimators': 1000}\n0.4652078112096045 {'max_depth': 22, 'n_estimators': 3}\n0.3987740660087216 {'max_depth': 22, 'n_estimators': 100}\n0.3999068545088085 {'max_depth': 22, 'n_estimators': 500}\n0.3996738958087614 {'max_depth': 22, 'n_estimators': 1000}\n0.4605224143216076 {'max_depth': 24, 'n_estimators': 3}\n0.3985070595736908 {'max_depth': 24, 'n_estimators': 100}\n0.3993408619239068 {'max_depth': 24, 'n_estimators': 500}\n0.39994012324598255 {'max_depth': 24, 'n_estimators': 1000}\n0.4613594923269615 {'max_depth': 25, 'n_estimators': 3}\n0.4015669150057666 {'max_depth': 25, 'n_estimators': 100}\n0.3988074292437525 {'max_depth': 25, 'n_estimators': 500}\n0.3983066872860345 {'max_depth': 25, 'n_estimators': 1000}\n"
     ]
    }
   ],
   "source": [
    "cvres = grid_search.cv_results_\n",
    "for mean_score, params in zip(cvres[\"mean_test_score\"], cvres[\"params\"]):\n",
    "    print(np.sqrt(-mean_score), params)"
   ]
  },
  {
   "cell_type": "code",
   "execution_count": 27,
   "metadata": {},
   "outputs": [
    {
     "output_type": "stream",
     "name": "stdout",
     "text": [
      "Accuracy: 84.3427354976051\n              precision    recall  f1-score   support\n\n           1       0.91      0.97      0.94      1887\n           2       0.96      0.90      0.93      1875\n           3       0.91      0.91      0.91      1900\n           4       0.69      0.63      0.66      1851\n           5       0.74      0.81      0.77      1882\n\n    accuracy                           0.84      9395\n   macro avg       0.84      0.84      0.84      9395\nweighted avg       0.84      0.84      0.84      9395\n\n[[1821   66    0    0    0]\n [ 183 1692    0    0    0]\n [   0    0 1731  169    0]\n [   0    0  166 1163  522]\n [   0    0    1  364 1517]]\n"
     ]
    }
   ],
   "source": [
    "# Model Accuracy, how often is the classifier correct?\n",
    "print(\"Accuracy:\",metrics.accuracy_score(y_test, y_pred)*100)\n",
    "# Model Classification Report\n",
    "print(metrics.classification_report(y_test, y_pred))\n",
    "# Model Confusion Matrix\n",
    "print(metrics.confusion_matrix(y_test, y_pred))"
   ]
  },
  {
   "cell_type": "code",
   "execution_count": 28,
   "metadata": {},
   "outputs": [
    {
     "output_type": "execute_result",
     "data": {
      "text/plain": [
       "      churn_risk_score\n",
       "0                    3\n",
       "1                    5\n",
       "2                    1\n",
       "3                    3\n",
       "4                    3\n",
       "...                ...\n",
       "9390                 3\n",
       "9391                 1\n",
       "9392                 4\n",
       "9393                 3\n",
       "9394                 4\n",
       "\n",
       "[9395 rows x 1 columns]"
      ],
      "text/html": "<div>\n<style scoped>\n    .dataframe tbody tr th:only-of-type {\n        vertical-align: middle;\n    }\n\n    .dataframe tbody tr th {\n        vertical-align: top;\n    }\n\n    .dataframe thead th {\n        text-align: right;\n    }\n</style>\n<table border=\"1\" class=\"dataframe\">\n  <thead>\n    <tr style=\"text-align: right;\">\n      <th></th>\n      <th>churn_risk_score</th>\n    </tr>\n  </thead>\n  <tbody>\n    <tr>\n      <th>0</th>\n      <td>3</td>\n    </tr>\n    <tr>\n      <th>1</th>\n      <td>5</td>\n    </tr>\n    <tr>\n      <th>2</th>\n      <td>1</td>\n    </tr>\n    <tr>\n      <th>3</th>\n      <td>3</td>\n    </tr>\n    <tr>\n      <th>4</th>\n      <td>3</td>\n    </tr>\n    <tr>\n      <th>...</th>\n      <td>...</td>\n    </tr>\n    <tr>\n      <th>9390</th>\n      <td>3</td>\n    </tr>\n    <tr>\n      <th>9391</th>\n      <td>1</td>\n    </tr>\n    <tr>\n      <th>9392</th>\n      <td>4</td>\n    </tr>\n    <tr>\n      <th>9393</th>\n      <td>3</td>\n    </tr>\n    <tr>\n      <th>9394</th>\n      <td>4</td>\n    </tr>\n  </tbody>\n</table>\n<p>9395 rows × 1 columns</p>\n</div>"
     },
     "metadata": {},
     "execution_count": 28
    }
   ],
   "source": [
    "final_score = pd.DataFrame(y_pred,columns=['churn_risk_score'])\n",
    "final_score"
   ]
  },
  {
   "cell_type": "code",
   "execution_count": 29,
   "metadata": {},
   "outputs": [
    {
     "output_type": "execute_result",
     "data": {
      "text/plain": [
       "                                customer_id\n",
       "0          fffe4300490044003600300030003800\n",
       "1      fffe43004900440032003100300035003700\n",
       "2          fffe4300490044003100390032003600\n",
       "3      fffe43004900440036003000330031003600\n",
       "4      fffe43004900440031003900350030003600\n",
       "...                                     ...\n",
       "32189      fffe4300490044003800310034003500\n",
       "32190  fffe43004900440034003900300036003500\n",
       "32191      fffe4300490044003500330034003100\n",
       "32192  fffe43004900440031003200390039003000\n",
       "32193  fffe43004900440033003600340034003200\n",
       "\n",
       "[32194 rows x 1 columns]"
      ],
      "text/html": "<div>\n<style scoped>\n    .dataframe tbody tr th:only-of-type {\n        vertical-align: middle;\n    }\n\n    .dataframe tbody tr th {\n        vertical-align: top;\n    }\n\n    .dataframe thead th {\n        text-align: right;\n    }\n</style>\n<table border=\"1\" class=\"dataframe\">\n  <thead>\n    <tr style=\"text-align: right;\">\n      <th></th>\n      <th>customer_id</th>\n    </tr>\n  </thead>\n  <tbody>\n    <tr>\n      <th>0</th>\n      <td>fffe4300490044003600300030003800</td>\n    </tr>\n    <tr>\n      <th>1</th>\n      <td>fffe43004900440032003100300035003700</td>\n    </tr>\n    <tr>\n      <th>2</th>\n      <td>fffe4300490044003100390032003600</td>\n    </tr>\n    <tr>\n      <th>3</th>\n      <td>fffe43004900440036003000330031003600</td>\n    </tr>\n    <tr>\n      <th>4</th>\n      <td>fffe43004900440031003900350030003600</td>\n    </tr>\n    <tr>\n      <th>...</th>\n      <td>...</td>\n    </tr>\n    <tr>\n      <th>32189</th>\n      <td>fffe4300490044003800310034003500</td>\n    </tr>\n    <tr>\n      <th>32190</th>\n      <td>fffe43004900440034003900300036003500</td>\n    </tr>\n    <tr>\n      <th>32191</th>\n      <td>fffe4300490044003500330034003100</td>\n    </tr>\n    <tr>\n      <th>32192</th>\n      <td>fffe43004900440031003200390039003000</td>\n    </tr>\n    <tr>\n      <th>32193</th>\n      <td>fffe43004900440033003600340034003200</td>\n    </tr>\n  </tbody>\n</table>\n<p>32194 rows × 1 columns</p>\n</div>"
     },
     "metadata": {},
     "execution_count": 29
    }
   ],
   "source": [
    "cust_id = pd.DataFrame(dataset_train_encoded['customer_id'],columns=['customer_id'])\n",
    "cust_id"
   ]
  },
  {
   "cell_type": "code",
   "execution_count": 30,
   "metadata": {},
   "outputs": [
    {
     "output_type": "execute_result",
     "data": {
      "text/plain": [
       "                                customer_id  churn_risk_score\n",
       "0          fffe4300490044003600300030003800               3.0\n",
       "1      fffe43004900440032003100300035003700               5.0\n",
       "2          fffe4300490044003100390032003600               1.0\n",
       "3      fffe43004900440036003000330031003600               3.0\n",
       "4      fffe43004900440031003900350030003600               3.0\n",
       "...                                     ...               ...\n",
       "32189      fffe4300490044003800310034003500               NaN\n",
       "32190  fffe43004900440034003900300036003500               NaN\n",
       "32191      fffe4300490044003500330034003100               NaN\n",
       "32192  fffe43004900440031003200390039003000               NaN\n",
       "32193  fffe43004900440033003600340034003200               NaN\n",
       "\n",
       "[32194 rows x 2 columns]"
      ],
      "text/html": "<div>\n<style scoped>\n    .dataframe tbody tr th:only-of-type {\n        vertical-align: middle;\n    }\n\n    .dataframe tbody tr th {\n        vertical-align: top;\n    }\n\n    .dataframe thead th {\n        text-align: right;\n    }\n</style>\n<table border=\"1\" class=\"dataframe\">\n  <thead>\n    <tr style=\"text-align: right;\">\n      <th></th>\n      <th>customer_id</th>\n      <th>churn_risk_score</th>\n    </tr>\n  </thead>\n  <tbody>\n    <tr>\n      <th>0</th>\n      <td>fffe4300490044003600300030003800</td>\n      <td>3.0</td>\n    </tr>\n    <tr>\n      <th>1</th>\n      <td>fffe43004900440032003100300035003700</td>\n      <td>5.0</td>\n    </tr>\n    <tr>\n      <th>2</th>\n      <td>fffe4300490044003100390032003600</td>\n      <td>1.0</td>\n    </tr>\n    <tr>\n      <th>3</th>\n      <td>fffe43004900440036003000330031003600</td>\n      <td>3.0</td>\n    </tr>\n    <tr>\n      <th>4</th>\n      <td>fffe43004900440031003900350030003600</td>\n      <td>3.0</td>\n    </tr>\n    <tr>\n      <th>...</th>\n      <td>...</td>\n      <td>...</td>\n    </tr>\n    <tr>\n      <th>32189</th>\n      <td>fffe4300490044003800310034003500</td>\n      <td>NaN</td>\n    </tr>\n    <tr>\n      <th>32190</th>\n      <td>fffe43004900440034003900300036003500</td>\n      <td>NaN</td>\n    </tr>\n    <tr>\n      <th>32191</th>\n      <td>fffe4300490044003500330034003100</td>\n      <td>NaN</td>\n    </tr>\n    <tr>\n      <th>32192</th>\n      <td>fffe43004900440031003200390039003000</td>\n      <td>NaN</td>\n    </tr>\n    <tr>\n      <th>32193</th>\n      <td>fffe43004900440033003600340034003200</td>\n      <td>NaN</td>\n    </tr>\n  </tbody>\n</table>\n<p>32194 rows × 2 columns</p>\n</div>"
     },
     "metadata": {},
     "execution_count": 30
    }
   ],
   "source": [
    "prediction = pd.concat([cust_id,final_score],axis=1)\n",
    "prediction"
   ]
  },
  {
   "cell_type": "code",
   "execution_count": 31,
   "metadata": {},
   "outputs": [],
   "source": [
    "prediction.to_csv('./prediction.csv')"
   ]
  }
 ],
 "metadata": {
  "kernelspec": {
   "name": "python3",
   "display_name": "Python 3.9.1 64-bit"
  },
  "language_info": {
   "codemirror_mode": {
    "name": "ipython",
    "version": 3
   },
   "file_extension": ".py",
   "mimetype": "text/x-python",
   "name": "python",
   "nbconvert_exporter": "python",
   "pygments_lexer": "ipython3",
   "version": "3.9.1"
  },
  "interpreter": {
   "hash": "2e900c0cfb6a5dd5431ffb90806b8f4ad802fc711c116e3a2a7be17c673e7013"
  }
 },
 "nbformat": 4,
 "nbformat_minor": 4
}